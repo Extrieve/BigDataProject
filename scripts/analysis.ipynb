{
 "cells": [
  {
   "cell_type": "code",
   "execution_count": 1,
   "metadata": {},
   "outputs": [],
   "source": [
    "# import spark sql and functions\n",
    "from pyspark.sql import SparkSession\n",
    "from pyspark.sql.functions import *"
   ]
  },
  {
   "cell_type": "code",
   "execution_count": 2,
   "metadata": {},
   "outputs": [],
   "source": [
    "spark = SparkSession.builder.master('local[16]').getOrCreate()"
   ]
  },
  {
   "cell_type": "code",
   "execution_count": 3,
   "metadata": {},
   "outputs": [],
   "source": [
    "crime_data = spark.read.csv('data/combined_crime.csv', header=True, inferSchema=True)"
   ]
  },
  {
   "cell_type": "code",
   "execution_count": 4,
   "metadata": {},
   "outputs": [],
   "source": [
    "expenditure_data = spark.read.csv('data/expenditure.csv', header=True, inferSchema=True)"
   ]
  },
  {
   "cell_type": "code",
   "execution_count": 5,
   "metadata": {},
   "outputs": [
    {
     "name": "stdout",
     "output_type": "stream",
     "text": [
      "root\n",
      " |-- state: string (nullable = true)\n",
      " |-- city: string (nullable = true)\n",
      " |-- year: string (nullable = true)\n",
      " |-- population: string (nullable = true)\n",
      " |-- violent_crime: string (nullable = true)\n",
      " |-- murder_and_nonnegligent_manslaughter: string (nullable = true)\n",
      " |-- forcible_rape: string (nullable = true)\n",
      " |-- robbery: string (nullable = true)\n",
      " |-- aggravated_assault: string (nullable = true)\n",
      " |-- non_violent_crime: double (nullable = true)\n",
      " |-- property_crime: string (nullable = true)\n",
      " |-- burglary: string (nullable = true)\n",
      " |-- larceny_theft: string (nullable = true)\n",
      " |-- motor_vehicle_theft: string (nullable = true)\n",
      "\n"
     ]
    }
   ],
   "source": [
    "# schema of the data\n",
    "crime_data.printSchema()"
   ]
  },
  {
   "cell_type": "code",
   "execution_count": 6,
   "metadata": {},
   "outputs": [
    {
     "name": "stdout",
     "output_type": "stream",
     "text": [
      "root\n",
      " |-- state: string (nullable = true)\n",
      " |-- city: string (nullable = true)\n",
      " |-- year: integer (nullable = true)\n",
      " |-- education_services_exp: string (nullable = true)\n",
      " |-- public_welfare_exp: string (nullable = true)\n",
      " |-- hospital_exp: string (nullable = true)\n",
      " |-- health_exp: string (nullable = true)\n",
      " |-- police_protection_exp: string (nullable = true)\n",
      " |-- fire_protection_exp: integer (nullable = true)\n",
      " |-- corrections_exp: integer (nullable = true)\n",
      " |-- inspection_and_regulation: integer (nullable = true)\n",
      " |-- parks_and_recreation_exp: string (nullable = true)\n",
      " |-- housing_&_community_development_exp: string (nullable = true)\n",
      " |-- financial_administration_exp: integer (nullable = true)\n",
      " |-- judicial_and_legal_exp: integer (nullable = true)\n",
      " |-- general_public_buildings_exp: integer (nullable = true)\n",
      " |-- other_governmental_admin_exp: string (nullable = true)\n",
      "\n"
     ]
    }
   ],
   "source": [
    "expenditure_data.printSchema()"
   ]
  },
  {
   "cell_type": "code",
   "execution_count": 7,
   "metadata": {},
   "outputs": [],
   "source": [
    "# perform an inner join for city and state\n",
    "crime_expenditure = crime_data.join(expenditure_data, ['city', 'state'], 'inner')"
   ]
  },
  {
   "cell_type": "code",
   "execution_count": 8,
   "metadata": {},
   "outputs": [
    {
     "name": "stdout",
     "output_type": "stream",
     "text": [
      "root\n",
      " |-- city: string (nullable = true)\n",
      " |-- state: string (nullable = true)\n",
      " |-- year: string (nullable = true)\n",
      " |-- population: string (nullable = true)\n",
      " |-- violent_crime: string (nullable = true)\n",
      " |-- murder_and_nonnegligent_manslaughter: string (nullable = true)\n",
      " |-- forcible_rape: string (nullable = true)\n",
      " |-- robbery: string (nullable = true)\n",
      " |-- aggravated_assault: string (nullable = true)\n",
      " |-- non_violent_crime: double (nullable = true)\n",
      " |-- property_crime: string (nullable = true)\n",
      " |-- burglary: string (nullable = true)\n",
      " |-- larceny_theft: string (nullable = true)\n",
      " |-- motor_vehicle_theft: string (nullable = true)\n",
      " |-- year: integer (nullable = true)\n",
      " |-- education_services_exp: string (nullable = true)\n",
      " |-- public_welfare_exp: string (nullable = true)\n",
      " |-- hospital_exp: string (nullable = true)\n",
      " |-- health_exp: string (nullable = true)\n",
      " |-- police_protection_exp: string (nullable = true)\n",
      " |-- fire_protection_exp: integer (nullable = true)\n",
      " |-- corrections_exp: integer (nullable = true)\n",
      " |-- inspection_and_regulation: integer (nullable = true)\n",
      " |-- parks_and_recreation_exp: string (nullable = true)\n",
      " |-- housing_&_community_development_exp: string (nullable = true)\n",
      " |-- financial_administration_exp: integer (nullable = true)\n",
      " |-- judicial_and_legal_exp: integer (nullable = true)\n",
      " |-- general_public_buildings_exp: integer (nullable = true)\n",
      " |-- other_governmental_admin_exp: string (nullable = true)\n",
      "\n"
     ]
    }
   ],
   "source": [
    "# new schema\n",
    "crime_expenditure.printSchema()"
   ]
  },
  {
   "cell_type": "code",
   "execution_count": 9,
   "metadata": {},
   "outputs": [
    {
     "name": "stdout",
     "output_type": "stream",
     "text": [
      "+---------+-----+----+----------+-------------+------------------------------------+-------------+-------+------------------+-----------------+--------------+--------+-------------+-------------------+----+----------------------+------------------+------------+----------+---------------------+-------------------+---------------+-------------------------+------------------------+-----------------------------------+----------------------------+----------------------+----------------------------+----------------------------+\n",
      "|     city|state|year|population|violent_crime|murder_and_nonnegligent_manslaughter|forcible_rape|robbery|aggravated_assault|non_violent_crime|property_crime|burglary|larceny_theft|motor_vehicle_theft|year|education_services_exp|public_welfare_exp|hospital_exp|health_exp|police_protection_exp|fire_protection_exp|corrections_exp|inspection_and_regulation|parks_and_recreation_exp|housing_&_community_development_exp|financial_administration_exp|judicial_and_legal_exp|general_public_buildings_exp|other_governmental_admin_exp|\n",
      "+---------+-----+----+----------+-------------+------------------------------------+-------------+-------+------------------+-----------------+--------------+--------+-------------+-------------------+----+----------------------+------------------+------------+----------+---------------------+-------------------+---------------+-------------------------+------------------------+-----------------------------------+----------------------------+----------------------+----------------------------+----------------------------+\n",
      "|Anchorage|   AK|2010|    290334|         2432|                                  13|          264|    454|              1701|          20428.0|         10214|    1223|         8178|                813|2017|                 2,366|                 5|           0|        71|                  445|                386|              0|                       33|                     118|                                 40|                          66|                    26|                           0|                          58|\n",
      "|Anchorage|   AK|2010|    290334|         2432|                                  13|          264|    454|              1701|          20428.0|         10214|    1223|         8178|                813|2016|                 2,464|                 5|           0|        79|                  481|                384|              0|                       35|                     125|                                 39|                          73|                    27|                           0|                          77|\n",
      "|Anchorage|   AK|2010|    290334|         2432|                                  13|          264|    454|              1701|          20428.0|         10214|    1223|         8178|                813|2015|                 2,730|                 5|           0|        83|                  483|                385|              0|                        0|                     127|                                 34|                          67|                    28|                           0|                          87|\n",
      "|Anchorage|   AK|2010|    290334|         2432|                                  13|          264|    454|              1701|          20428.0|         10214|    1223|         8178|                813|2014|                 2,456|                 5|           0|        76|                  469|                373|              0|                        0|                      55|                                 37|                          30|                    27|                           0|                          82|\n",
      "|Anchorage|   AK|2010|    290334|         2432|                                  13|          264|    454|              1701|          20428.0|         10214|    1223|         8178|                813|2013|                 2,472|                 0|           0|       129|                  454|                336|              0|                        0|                      26|                                  0|                           0|                    27|                           0|                          77|\n",
      "+---------+-----+----+----------+-------------+------------------------------------+-------------+-------+------------------+-----------------+--------------+--------+-------------+-------------------+----+----------------------+------------------+------------+----------+---------------------+-------------------+---------------+-------------------------+------------------------+-----------------------------------+----------------------------+----------------------+----------------------------+----------------------------+\n",
      "only showing top 5 rows\n",
      "\n"
     ]
    }
   ],
   "source": [
    "# head of the data\n",
    "crime_expenditure.show(5)"
   ]
  },
  {
   "cell_type": "code",
   "execution_count": 10,
   "metadata": {},
   "outputs": [
    {
     "name": "stdout",
     "output_type": "stream",
     "text": [
      "(520, 29)\n"
     ]
    }
   ],
   "source": [
    "# shape of the data\n",
    "print((crime_expenditure.count(), len(crime_expenditure.columns)))"
   ]
  },
  {
   "cell_type": "code",
   "execution_count": 11,
   "metadata": {},
   "outputs": [
    {
     "name": "stdout",
     "output_type": "stream",
     "text": [
      "+-----+-----------+------------+-------------+\n",
      "|state|       city|  population|violent_crime|\n",
      "+-----+-----------+------------+-------------+\n",
      "|   AL| Montgomery| 1.1277144E7|      59360.0|\n",
      "|   AR|Little Rock| 1.5792096E7|     232792.0|\n",
      "|   AZ|    Phoenix|1.13044048E8|     731408.0|\n",
      "|   AZ|       Mesa| 3.4161112E7|     136792.0|\n",
      "|   AK|  Anchorage|  2.370752E7|     239648.0|\n",
      "+-----+-----------+------------+-------------+\n",
      "only showing top 5 rows\n",
      "\n"
     ]
    }
   ],
   "source": [
    "# group by state and city and aggregate the data\n",
    "crime_expenditure = crime_expenditure.groupBy('state', 'city').agg(\n",
    "    sum('population').alias('population'),\n",
    "    sum('violent_crime').alias('violent_crime'))\n",
    "crime_expenditure.show(5)"
   ]
  },
  {
   "cell_type": "code",
   "execution_count": 14,
   "metadata": {},
   "outputs": [
    {
     "name": "stdout",
     "output_type": "stream",
     "text": [
      "+-----+-----------+------------+-------------+\n",
      "|state|       city|  population|violent_crime|\n",
      "+-----+-----------+------------+-------------+\n",
      "|   AZ|    Phoenix|1.13044048E8|     731408.0|\n",
      "|   AK|  Anchorage|  2.370752E7|     239648.0|\n",
      "|   AR|Little Rock| 1.5792096E7|     232792.0|\n",
      "|   AZ|     Tucson| 3.0042296E7|     214888.0|\n",
      "|   AZ|       Mesa| 3.4161112E7|     136792.0|\n",
      "|   AL| Birmingham|   6797384.0|     105320.0|\n",
      "|   AL| Montgomery| 1.1277144E7|      59360.0|\n",
      "|   AK|  Fairbanks|   2325536.0|      14384.0|\n",
      "+-----+-----------+------------+-------------+\n",
      "\n"
     ]
    }
   ],
   "source": [
    "# check highest crime rate\n",
    "crime_expenditure.orderBy(desc('violent_crime')).show(10)"
   ]
  },
  {
   "cell_type": "code",
   "execution_count": 15,
   "metadata": {},
   "outputs": [
    {
     "name": "stdout",
     "output_type": "stream",
     "text": [
      "+-----+-----------+------------+-------------+--------------------+\n",
      "|state|       city|  population|violent_crime| crime_by_population|\n",
      "+-----+-----------+------------+-------------+--------------------+\n",
      "|   AL| Montgomery| 1.1277144E7|      59360.0|0.005263744082721654|\n",
      "|   AR|Little Rock| 1.5792096E7|     232792.0|0.014741045140556389|\n",
      "|   AZ|    Phoenix|1.13044048E8|     731408.0|0.006470115082927...|\n",
      "|   AZ|       Mesa| 3.4161112E7|     136792.0|0.004004319297334349|\n",
      "|   AK|  Anchorage|  2.370752E7|     239648.0|0.010108522527873013|\n",
      "+-----+-----------+------------+-------------+--------------------+\n",
      "only showing top 5 rows\n",
      "\n"
     ]
    }
   ],
   "source": [
    "#make a new column called crime by population\n",
    "crime_expenditure = crime_expenditure.withColumn('crime_by_population', crime_expenditure.violent_crime/crime_expenditure.population)\n",
    "crime_expenditure.show(5)"
   ]
  },
  {
   "cell_type": "code",
   "execution_count": 16,
   "metadata": {},
   "outputs": [
    {
     "name": "stdout",
     "output_type": "stream",
     "text": [
      "+-----+-----------+------------+-------------+--------------------+\n",
      "|state|       city|  population|violent_crime| crime_by_population|\n",
      "+-----+-----------+------------+-------------+--------------------+\n",
      "|   AL| Birmingham|   6797384.0|     105320.0|0.015494196002462124|\n",
      "|   AR|Little Rock| 1.5792096E7|     232792.0|0.014741045140556389|\n",
      "|   AK|  Anchorage|  2.370752E7|     239648.0|0.010108522527873013|\n",
      "|   AZ|     Tucson| 3.0042296E7|     214888.0|0.007152848770280407|\n",
      "|   AZ|    Phoenix|1.13044048E8|     731408.0|0.006470115082927...|\n",
      "|   AK|  Fairbanks|   2325536.0|      14384.0|0.006185240735899164|\n",
      "|   AL| Montgomery| 1.1277144E7|      59360.0|0.005263744082721654|\n",
      "|   AZ|       Mesa| 3.4161112E7|     136792.0|0.004004319297334349|\n",
      "+-----+-----------+------------+-------------+--------------------+\n",
      "\n"
     ]
    }
   ],
   "source": [
    "# check highest crime rate\n",
    "crime_expenditure.orderBy(desc('crime_by_population')).show(10)"
   ]
  },
  {
   "cell_type": "code",
   "execution_count": 17,
   "metadata": {},
   "outputs": [
    {
     "data": {
      "text/plain": [
       "<AxesSubplot:xlabel='city'>"
      ]
     },
     "execution_count": 17,
     "metadata": {},
     "output_type": "execute_result"
    },
    {
     "data": {
      "image/png": "[encoded data removed]",
      "text/plain": [
       "<Figure size 432x288 with 1 Axes>"
      ]
     },
     "metadata": {
      "needs_background": "light"
     },
     "output_type": "display_data"
    }
   ],
   "source": [
    "# graph top 10 crime rate\n",
    "crime_expenditure.orderBy(desc('crime_by_population')).limit(10).toPandas().plot.bar(x='city', y='crime_by_population')"
   ]
  },
  {
   "cell_type": "code",
   "execution_count": 18,
   "metadata": {},
   "outputs": [
    {
     "data": {
      "text/plain": [
       "<AxesSubplot:xlabel='city'>"
      ]
     },
     "execution_count": 18,
     "metadata": {},
     "output_type": "execute_result"
    },
    {
     "data": {
      "image/png": "[encoded data removed]",
      "text/plain": [
       "<Figure size 432x288 with 1 Axes>"
      ]
     },
     "metadata": {
      "needs_background": "light"
     },
     "output_type": "display_data"
    }
   ],
   "source": [
    "# graph top 10 overall crime\n",
    "crime_expenditure.orderBy(desc('violent_crime')).limit(10).toPandas().plot.bar(x='city', y='violent_crime')"
   ]
  }
 ],
 "metadata": {
  "kernelspec": {
   "display_name": "Python 3.11.0rc1 64-bit",
   "language": "python",
   "name": "python3"
  },
  "language_info": {
   "codemirror_mode": {
    "name": "ipython",
    "version": 3
   },
   "file_extension": ".py",
   "mimetype": "text/x-python",
   "name": "python",
   "nbconvert_exporter": "python",
   "pygments_lexer": "ipython3",
   "version": "3.11.0"
  },
  "orig_nbformat": 4,
  "vscode": {
   "interpreter": {
    "hash": "e7370f93d1d0cde622a1f8e1c04877d8463912d04d973331ad4851f04de6915a"
   }
  }
 },
 "nbformat": 4,
 "nbformat_minor": 2
}
