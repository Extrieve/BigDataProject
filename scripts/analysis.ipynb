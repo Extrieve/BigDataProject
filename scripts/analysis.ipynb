{
 "cells": [
  {
   "cell_type": "code",
   "execution_count": 1,
   "metadata": {},
   "outputs": [],
   "source": [
    "# import spark sql and functions\n",
    "from pyspark.sql import SparkSession\n",
    "from pyspark.sql.functions import *"
   ]
  },
  {
   "cell_type": "code",
   "execution_count": 2,
   "metadata": {},
   "outputs": [
    {
     "name": "stdout",
     "output_type": "stream",
     "text": [
      "22/11/17 20:02:57 WARN Utils: Your hostname, extrieve resolves to a loopback address: 127.0.1.1; using 192.168.0.25 instead (on interface wlo1)\n",
      "22/11/17 20:02:57 WARN Utils: Set SPARK_LOCAL_IP if you need to bind to another address\n"
     ]
    },
    {
     "name": "stderr",
     "output_type": "stream",
     "text": [
      "Setting default log level to \"WARN\".\n",
      "To adjust logging level use sc.setLogLevel(newLevel). For SparkR, use setLogLevel(newLevel).\n"
     ]
    },
    {
     "name": "stdout",
     "output_type": "stream",
     "text": [
      "22/11/17 20:03:07 WARN NativeCodeLoader: Unable to load native-hadoop library for your platform... using builtin-java classes where applicable\n"
     ]
    }
   ],
   "source": [
    "spark = SparkSession.builder.master('local[16]').getOrCreate()"
   ]
  },
  {
   "cell_type": "code",
   "execution_count": 3,
   "metadata": {},
   "outputs": [
    {
     "name": "stdout",
     "output_type": "stream",
     "text": [
      "root\n",
      " |-- UPC: long (nullable = true)\n",
      " |-- DESCRIPTION: string (nullable = true)\n",
      " |-- MANUFACTURER: string (nullable = true)\n",
      " |-- CATEGORY: string (nullable = true)\n",
      " |-- SUB_CATEGORY: string (nullable = true)\n",
      " |-- PRODUCT_SIZE: string (nullable = true)\n",
      "\n"
     ]
    }
   ],
   "source": [
    "# read products_table.csv\n",
    "products = spark.read.csv('../Data/product_table.csv', header=True, inferSchema=True)\n",
    "\n",
    "# schema\n",
    "products.printSchema()"
   ]
  },
  {
   "cell_type": "code",
   "execution_count": 4,
   "metadata": {},
   "outputs": [
    {
     "name": "stdout",
     "output_type": "stream",
     "text": [
      "root\n",
      " |-- STORE_ID: integer (nullable = true)\n",
      " |-- STORE_NAME: string (nullable = true)\n",
      " |-- CITY: string (nullable = true)\n",
      " |-- STATE: string (nullable = true)\n",
      " |-- MSA: integer (nullable = true)\n",
      " |-- SEGMENT: string (nullable = true)\n",
      " |-- PARKING: integer (nullable = true)\n",
      " |-- SIZE: integer (nullable = true)\n",
      " |-- AVG_WEEKLY_BASKETS: integer (nullable = true)\n",
      " |-- _c9: string (nullable = true)\n",
      "\n"
     ]
    }
   ],
   "source": [
    "# store_table.csv\n",
    "store = spark.read.csv('../Data/store_table.csv', header=True, inferSchema=True)\n",
    "\n",
    "# schema\n",
    "store.printSchema()"
   ]
  },
  {
   "cell_type": "code",
   "execution_count": 5,
   "metadata": {},
   "outputs": [
    {
     "name": "stderr",
     "output_type": "stream",
     "text": [
      "                                                                                \r"
     ]
    }
   ],
   "source": [
    "# transactions_table.csv\n",
    "transactions = spark.read.csv('../Data/transaction_table.csv', header=True, inferSchema=True)"
   ]
  },
  {
   "cell_type": "code",
   "execution_count": 6,
   "metadata": {},
   "outputs": [
    {
     "name": "stdout",
     "output_type": "stream",
     "text": [
      "root\n",
      " |-- WEEK_END_DATE: string (nullable = true)\n",
      " |-- STORE_NUM: integer (nullable = true)\n",
      " |-- UPC: long (nullable = true)\n",
      " |-- UNITS: integer (nullable = true)\n",
      " |-- VISITS: integer (nullable = true)\n",
      " |-- HHS: integer (nullable = true)\n",
      " |-- SPEND: double (nullable = true)\n",
      " |-- PRICE: double (nullable = true)\n",
      " |-- BASE_PRICE: double (nullable = true)\n",
      " |-- FEATURE: integer (nullable = true)\n",
      " |-- DISPLAY: integer (nullable = true)\n",
      " |-- TPR_ONLY: integer (nullable = true)\n",
      "\n"
     ]
    }
   ],
   "source": [
    "# schema\n",
    "transactions.printSchema()"
   ]
  },
  {
   "cell_type": "code",
   "execution_count": 7,
   "metadata": {},
   "outputs": [
    {
     "name": "stdout",
     "output_type": "stream",
     "text": [
      "+----------+--------------------+-------------+----------+------------+------------+-------------+---------+----------+-----+------+---+------+-----+----------+-------+-------+--------+\n",
      "|       UPC|         DESCRIPTION| MANUFACTURER|  CATEGORY|SUB_CATEGORY|PRODUCT_SIZE|WEEK_END_DATE|STORE_NUM|       UPC|UNITS|VISITS|HHS| SPEND|PRICE|BASE_PRICE|FEATURE|DISPLAY|TPR_ONLY|\n",
      "+----------+--------------------+-------------+----------+------------+------------+-------------+---------+----------+-----+------+---+------+-----+----------+-------+-------+--------+\n",
      "|1111009477|PL MINI TWIST PRE...|PRIVATE LABEL|BAG SNACKS|    PRETZELS|       15 OZ|    14-Jan-09|      367|1111009477|   13|    13| 13| 18.07| 1.39|      1.57|      0|      0|       1|\n",
      "|1111009477|PL MINI TWIST PRE...|PRIVATE LABEL|BAG SNACKS|    PRETZELS|       15 OZ|    14-Jan-09|      387|1111009477|  111|    98| 94|154.29| 1.39|      1.39|      0|      0|       0|\n",
      "|1111009477|PL MINI TWIST PRE...|PRIVATE LABEL|BAG SNACKS|    PRETZELS|       15 OZ|    14-Jan-09|      389|1111009477|   71|    68| 68| 98.69| 1.39|      1.39|      0|      0|       0|\n",
      "|1111009477|PL MINI TWIST PRE...|PRIVATE LABEL|BAG SNACKS|    PRETZELS|       15 OZ|    14-Jan-09|      613|1111009477|   76|    66| 66| 93.48| 1.23|      1.23|      0|      1|       0|\n",
      "|1111009477|PL MINI TWIST PRE...|PRIVATE LABEL|BAG SNACKS|    PRETZELS|       15 OZ|    14-Jan-09|      623|1111009477|   33|    28| 28| 38.28| 1.16|      1.16|      0|      1|       0|\n",
      "+----------+--------------------+-------------+----------+------------+------------+-------------+---------+----------+-----+------+---+------+-----+----------+-------+-------+--------+\n",
      "only showing top 5 rows\n",
      "\n"
     ]
    }
   ],
   "source": [
    "# Left join products and transactions\n",
    "products_transactions = products.join(transactions, products.UPC == transactions.UPC, how='left')\n",
    "\n",
    "# head\n",
    "products_transactions.show(5)"
   ]
  },
  {
   "cell_type": "code",
   "execution_count": 8,
   "metadata": {},
   "outputs": [
    {
     "name": "stdout",
     "output_type": "stream",
     "text": [
      "root\n",
      " |-- UPC: long (nullable = true)\n",
      " |-- DESCRIPTION: string (nullable = true)\n",
      " |-- MANUFACTURER: string (nullable = true)\n",
      " |-- CATEGORY: string (nullable = true)\n",
      " |-- SUB_CATEGORY: string (nullable = true)\n",
      " |-- PRODUCT_SIZE: string (nullable = true)\n",
      " |-- WEEK_END_DATE: string (nullable = true)\n",
      " |-- STORE_NUM: integer (nullable = true)\n",
      " |-- UPC: long (nullable = true)\n",
      " |-- UNITS: integer (nullable = true)\n",
      " |-- VISITS: integer (nullable = true)\n",
      " |-- HHS: integer (nullable = true)\n",
      " |-- SPEND: double (nullable = true)\n",
      " |-- PRICE: double (nullable = true)\n",
      " |-- BASE_PRICE: double (nullable = true)\n",
      " |-- FEATURE: integer (nullable = true)\n",
      " |-- DISPLAY: integer (nullable = true)\n",
      " |-- TPR_ONLY: integer (nullable = true)\n",
      "\n"
     ]
    }
   ],
   "source": [
    "# schema\n",
    "products_transactions.printSchema()"
   ]
  },
  {
   "cell_type": "code",
   "execution_count": 9,
   "metadata": {},
   "outputs": [
    {
     "name": "stdout",
     "output_type": "stream",
     "text": [
      "22/11/17 20:03:16 WARN package: Truncated the string representation of a plan since it was too large. This behavior can be adjusted by setting 'spark.sql.debug.maxToStringFields'.\n",
      "22/11/17 20:03:16 WARN CSVHeaderChecker: CSV header does not conform to the schema.\n",
      " Header: STORE_ID, STORE_NAME, CITY, STATE, MSA, SEGMENT, PARKING, SIZE, AVG_WEEKLY_BASKETS, \n",
      " Schema: STORE_ID, STORE_NAME, CITY, STATE, MSA, SEGMENT, PARKING, SIZE, AVG_WEEKLY_BASKETS, _c9\n",
      "Expected: _c9 but found: \n",
      "CSV file: file:///home/nick/Documents/GitHub/BigDataProject/Data/store_table.csv\n",
      "+----------+--------------------+-------------+----------+------------+------------+-------------+---------+----------+-----+------+---+------+-----+----------+-------+-------+--------+--------+--------------+---------+-----+-----+----------+-------+-----+------------------+----+\n",
      "|       UPC|         DESCRIPTION| MANUFACTURER|  CATEGORY|SUB_CATEGORY|PRODUCT_SIZE|WEEK_END_DATE|STORE_NUM|       UPC|UNITS|VISITS|HHS| SPEND|PRICE|BASE_PRICE|FEATURE|DISPLAY|TPR_ONLY|STORE_ID|    STORE_NAME|     CITY|STATE|  MSA|   SEGMENT|PARKING| SIZE|AVG_WEEKLY_BASKETS| _c9|\n",
      "+----------+--------------------+-------------+----------+------------+------------+-------------+---------+----------+-----+------+---+------+-----+----------+-------+-------+--------+--------+--------------+---------+-----+-----+----------+-------+-----+------------------+----+\n",
      "|1111009477|PL MINI TWIST PRE...|PRIVATE LABEL|BAG SNACKS|    PRETZELS|       15 OZ|    14-Jan-09|      367|1111009477|   13|    13| 13| 18.07| 1.39|      1.57|      0|      0|       1|     367|15TH & MADISON|COVINGTON|   KY|17140|     VALUE|    196|24721|             12707|null|\n",
      "|1111009477|PL MINI TWIST PRE...|PRIVATE LABEL|BAG SNACKS|    PRETZELS|       15 OZ|    14-Jan-09|      387|1111009477|  111|    98| 94|154.29| 1.39|      1.39|      0|      0|       0|     387|TOWN & COUNTRY|KETTERING|   OH|19380|   UPSCALE|    270|44547|             22867|null|\n",
      "|1111009477|PL MINI TWIST PRE...|PRIVATE LABEL|BAG SNACKS|    PRETZELS|       15 OZ|    14-Jan-09|      389|1111009477|   71|    68| 68| 98.69| 1.39|      1.39|      0|      0|       0|     389|    SILVERLAKE| ERLANGER|   KY|17140|MAINSTREAM|    408|46073|             24767|null|\n",
      "|1111009477|PL MINI TWIST PRE...|PRIVATE LABEL|BAG SNACKS|    PRETZELS|       15 OZ|    14-Jan-09|      613|1111009477|   76|    66| 66| 93.48| 1.23|      1.23|      0|      1|       0|     613|    EAST ALLEN|    ALLEN|   TX|19100|MAINSTREAM|    464|64926|             29386|null|\n",
      "|1111009477|PL MINI TWIST PRE...|PRIVATE LABEL|BAG SNACKS|    PRETZELS|       15 OZ|    14-Jan-09|      623|1111009477|   33|    28| 28| 38.28| 1.16|      1.16|      0|      1|       0|     623|       HOUSTON|  HOUSTON|   TX|26420|MAINSTREAM|   null|46930|             36741|null|\n",
      "+----------+--------------------+-------------+----------+------------+------------+-------------+---------+----------+-----+------+---+------+-----+----------+-------+-------+--------+--------+--------------+---------+-----+-----+----------+-------+-----+------------------+----+\n",
      "only showing top 5 rows\n",
      "\n"
     ]
    }
   ],
   "source": [
    "# Left join products_transactions and store, store_id == store_num\n",
    "products_transactions_store = products_transactions.join(store, products_transactions.STORE_NUM == store.STORE_ID, how='left')\n",
    "\n",
    "# head\n",
    "products_transactions_store.show(5)"
   ]
  },
  {
   "cell_type": "code",
   "execution_count": 10,
   "metadata": {},
   "outputs": [
    {
     "name": "stdout",
     "output_type": "stream",
     "text": [
      "root\n",
      " |-- UPC: long (nullable = true)\n",
      " |-- DESCRIPTION: string (nullable = true)\n",
      " |-- MANUFACTURER: string (nullable = true)\n",
      " |-- CATEGORY: string (nullable = true)\n",
      " |-- SUB_CATEGORY: string (nullable = true)\n",
      " |-- PRODUCT_SIZE: string (nullable = true)\n",
      " |-- WEEK_END_DATE: string (nullable = true)\n",
      " |-- STORE_NUM: integer (nullable = true)\n",
      " |-- UPC: long (nullable = true)\n",
      " |-- UNITS: integer (nullable = true)\n",
      " |-- VISITS: integer (nullable = true)\n",
      " |-- HHS: integer (nullable = true)\n",
      " |-- SPEND: double (nullable = true)\n",
      " |-- PRICE: double (nullable = true)\n",
      " |-- BASE_PRICE: double (nullable = true)\n",
      " |-- FEATURE: integer (nullable = true)\n",
      " |-- DISPLAY: integer (nullable = true)\n",
      " |-- TPR_ONLY: integer (nullable = true)\n",
      " |-- STORE_ID: integer (nullable = true)\n",
      " |-- STORE_NAME: string (nullable = true)\n",
      " |-- CITY: string (nullable = true)\n",
      " |-- STATE: string (nullable = true)\n",
      " |-- MSA: integer (nullable = true)\n",
      " |-- SEGMENT: string (nullable = true)\n",
      " |-- PARKING: integer (nullable = true)\n",
      " |-- SIZE: integer (nullable = true)\n",
      " |-- AVG_WEEKLY_BASKETS: integer (nullable = true)\n",
      " |-- _c9: string (nullable = true)\n",
      "\n"
     ]
    }
   ],
   "source": [
    "# schema\n",
    "products_transactions_store.printSchema()"
   ]
  },
  {
   "cell_type": "code",
   "execution_count": 11,
   "metadata": {},
   "outputs": [
    {
     "name": "stdout",
     "output_type": "stream",
     "text": [
      "22/11/17 20:03:17 WARN CSVHeaderChecker: CSV header does not conform to the schema.\n",
      " Header: STORE_ID, STORE_NAME, CITY, STATE, MSA, SEGMENT, PARKING, SIZE, AVG_WEEKLY_BASKETS, \n",
      " Schema: STORE_ID, STORE_NAME, CITY, STATE, MSA, SEGMENT, PARKING, SIZE, AVG_WEEKLY_BASKETS, _c9\n",
      "Expected: _c9 but found: \n",
      "CSV file: file:///home/nick/Documents/GitHub/BigDataProject/Data/store_table.csv\n",
      "+--------------------+-------------+----------+------------+------------+-------------+-----+------+---+------+-----+----------+-------+-------+--------+--------------+---------+-----+-----+----------+-------+-----+------------------+----+\n",
      "|         DESCRIPTION| MANUFACTURER|  CATEGORY|SUB_CATEGORY|PRODUCT_SIZE|WEEK_END_DATE|UNITS|VISITS|HHS| SPEND|PRICE|BASE_PRICE|FEATURE|DISPLAY|TPR_ONLY|    STORE_NAME|     CITY|STATE|  MSA|   SEGMENT|PARKING| SIZE|AVG_WEEKLY_BASKETS| _c9|\n",
      "+--------------------+-------------+----------+------------+------------+-------------+-----+------+---+------+-----+----------+-------+-------+--------+--------------+---------+-----+-----+----------+-------+-----+------------------+----+\n",
      "|PL MINI TWIST PRE...|PRIVATE LABEL|BAG SNACKS|    PRETZELS|       15 OZ|    14-Jan-09|   13|    13| 13| 18.07| 1.39|      1.57|      0|      0|       1|15TH & MADISON|COVINGTON|   KY|17140|     VALUE|    196|24721|             12707|null|\n",
      "|PL MINI TWIST PRE...|PRIVATE LABEL|BAG SNACKS|    PRETZELS|       15 OZ|    14-Jan-09|  111|    98| 94|154.29| 1.39|      1.39|      0|      0|       0|TOWN & COUNTRY|KETTERING|   OH|19380|   UPSCALE|    270|44547|             22867|null|\n",
      "|PL MINI TWIST PRE...|PRIVATE LABEL|BAG SNACKS|    PRETZELS|       15 OZ|    14-Jan-09|   71|    68| 68| 98.69| 1.39|      1.39|      0|      0|       0|    SILVERLAKE| ERLANGER|   KY|17140|MAINSTREAM|    408|46073|             24767|null|\n",
      "|PL MINI TWIST PRE...|PRIVATE LABEL|BAG SNACKS|    PRETZELS|       15 OZ|    14-Jan-09|   76|    66| 66| 93.48| 1.23|      1.23|      0|      1|       0|    EAST ALLEN|    ALLEN|   TX|19100|MAINSTREAM|    464|64926|             29386|null|\n",
      "|PL MINI TWIST PRE...|PRIVATE LABEL|BAG SNACKS|    PRETZELS|       15 OZ|    14-Jan-09|   33|    28| 28| 38.28| 1.16|      1.16|      0|      1|       0|       HOUSTON|  HOUSTON|   TX|26420|MAINSTREAM|   null|46930|             36741|null|\n",
      "+--------------------+-------------+----------+------------+------------+-------------+-----+------+---+------+-----+----------+-------+-------+--------+--------------+---------+-----+-----+----------+-------+-----+------------------+----+\n",
      "only showing top 5 rows\n",
      "\n"
     ]
    }
   ],
   "source": [
    "# Drop similar columns\n",
    "products_transactions_store = products_transactions_store.drop('UPC', 'STORE_NUM', 'STORE_ID')\n",
    "\n",
    "# head\n",
    "products_transactions_store.show(5)"
   ]
  },
  {
   "cell_type": "code",
   "execution_count": 12,
   "metadata": {},
   "outputs": [
    {
     "name": "stdout",
     "output_type": "stream",
     "text": [
      "(538662, 24)\n"
     ]
    }
   ],
   "source": [
    "# shape of the data\n",
    "print((products_transactions_store.count(), len(products_transactions_store.columns)))"
   ]
  },
  {
   "cell_type": "code",
   "execution_count": 13,
   "metadata": {},
   "outputs": [
    {
     "name": "stdout",
     "output_type": "stream",
     "text": [
      "22/11/17 20:03:18 WARN CSVHeaderChecker: CSV header does not conform to the schema.\n",
      " Header: STORE_ID, STORE_NAME, CITY, STATE, MSA, SEGMENT, PARKING, SIZE, AVG_WEEKLY_BASKETS, \n",
      " Schema: STORE_ID, STORE_NAME, CITY, STATE, MSA, SEGMENT, PARKING, SIZE, AVG_WEEKLY_BASKETS, _c9\n",
      "Expected: _c9 but found: \n",
      "CSV file: file:///home/nick/Documents/GitHub/BigDataProject/Data/store_table.csv\n"
     ]
    },
    {
     "name": "stderr",
     "output_type": "stream",
     "text": [
      "[Stage 33:=====>                                                   (1 + 9) / 10]\r"
     ]
    },
    {
     "name": "stdout",
     "output_type": "stream",
     "text": [
      "(538647, 24)\n"
     ]
    },
    {
     "name": "stderr",
     "output_type": "stream",
     "text": [
      "                                                                                \r"
     ]
    }
   ],
   "source": [
    "# drop any duplicates\n",
    "products_transactions_store = products_transactions_store.dropDuplicates()\n",
    "\n",
    "# shape of the data\n",
    "print((products_transactions_store.count(), len(products_transactions_store.columns)))"
   ]
  },
  {
   "cell_type": "code",
   "execution_count": 15,
   "metadata": {},
   "outputs": [
    {
     "name": "stdout",
     "output_type": "stream",
     "text": [
      "root\n",
      " |-- DESCRIPTION: string (nullable = true)\n",
      " |-- MANUFACTURER: string (nullable = true)\n",
      " |-- CATEGORY: string (nullable = true)\n",
      " |-- SUB_CATEGORY: string (nullable = true)\n",
      " |-- PRODUCT_SIZE: string (nullable = true)\n",
      " |-- WEEK_END_DATE: string (nullable = true)\n",
      " |-- UNITS: integer (nullable = true)\n",
      " |-- VISITS: integer (nullable = true)\n",
      " |-- HHS: integer (nullable = true)\n",
      " |-- SPEND: double (nullable = true)\n",
      " |-- PRICE: double (nullable = true)\n",
      " |-- BASE_PRICE: double (nullable = true)\n",
      " |-- FEATURE: integer (nullable = true)\n",
      " |-- DISPLAY: integer (nullable = true)\n",
      " |-- TPR_ONLY: integer (nullable = true)\n",
      " |-- STORE_NAME: string (nullable = true)\n",
      " |-- CITY: string (nullable = true)\n",
      " |-- STATE: string (nullable = true)\n",
      " |-- MSA: integer (nullable = true)\n",
      " |-- SEGMENT: string (nullable = true)\n",
      " |-- PARKING: integer (nullable = true)\n",
      " |-- SIZE: integer (nullable = true)\n",
      " |-- AVG_WEEKLY_BASKETS: integer (nullable = true)\n",
      " |-- _c9: string (nullable = true)\n",
      "\n"
     ]
    }
   ],
   "source": [
    "# schema\n",
    "products_transactions_store.printSchema()"
   ]
  },
  {
   "cell_type": "code",
   "execution_count": 17,
   "metadata": {},
   "outputs": [
    {
     "name": "stdout",
     "output_type": "stream",
     "text": [
      "root\n",
      " |-- description: string (nullable = true)\n",
      " |-- manufacturer: string (nullable = true)\n",
      " |-- category: string (nullable = true)\n",
      " |-- sub_category: string (nullable = true)\n",
      " |-- product_size: string (nullable = true)\n",
      " |-- week_end_date: string (nullable = true)\n",
      " |-- units: integer (nullable = true)\n",
      " |-- visits: integer (nullable = true)\n",
      " |-- hhs: integer (nullable = true)\n",
      " |-- spend: double (nullable = true)\n",
      " |-- price: double (nullable = true)\n",
      " |-- base_price: double (nullable = true)\n",
      " |-- feature: integer (nullable = true)\n",
      " |-- display: integer (nullable = true)\n",
      " |-- tpr_only: integer (nullable = true)\n",
      " |-- store_name: string (nullable = true)\n",
      " |-- city: string (nullable = true)\n",
      " |-- state: string (nullable = true)\n",
      " |-- msa: integer (nullable = true)\n",
      " |-- segment: string (nullable = true)\n",
      " |-- parking: integer (nullable = true)\n",
      " |-- size: integer (nullable = true)\n",
      " |-- avg_weekly_baskets: integer (nullable = true)\n",
      " |-- _c9: string (nullable = true)\n",
      "\n"
     ]
    }
   ],
   "source": [
    "# make column names lowercase\n",
    "products_transactions_store = products_transactions_store.toDF(*[c.lower() for c in products_transactions_store.columns])\n",
    "\n",
    "products_transactions_store.printSchema()"
   ]
  },
  {
   "cell_type": "code",
   "execution_count": 18,
   "metadata": {},
   "outputs": [
    {
     "name": "stdout",
     "output_type": "stream",
     "text": [
      "+--------------------+\n",
      "|            category|\n",
      "+--------------------+\n",
      "|         COLD CEREAL|\n",
      "|                null|\n",
      "|        FROZEN PIZZA|\n",
      "|ORAL HYGIENE PROD...|\n",
      "|          BAG SNACKS|\n",
      "+--------------------+\n",
      "\n"
     ]
    }
   ],
   "source": [
    "# select distinct categories\n",
    "products_transactions_store.select('category').distinct().show()"
   ]
  },
  {
   "cell_type": "code",
   "execution_count": 20,
   "metadata": {},
   "outputs": [],
   "source": [
    "# drop rows where category == null\n",
    "products_transactions_store = products_transactions_store.filter(products_transactions_store.category.isNotNull())"
   ]
  },
  {
   "cell_type": "code",
   "execution_count": 21,
   "metadata": {},
   "outputs": [
    {
     "name": "stdout",
     "output_type": "stream",
     "text": [
      "+--------------------+\n",
      "|            category|\n",
      "+--------------------+\n",
      "|         COLD CEREAL|\n",
      "|        FROZEN PIZZA|\n",
      "|ORAL HYGIENE PROD...|\n",
      "|          BAG SNACKS|\n",
      "+--------------------+\n",
      "\n"
     ]
    }
   ],
   "source": [
    "# select distinct categories\n",
    "products_transactions_store.select('category').distinct().show()"
   ]
  },
  {
   "cell_type": "code",
   "execution_count": 22,
   "metadata": {},
   "outputs": [
    {
     "name": "stdout",
     "output_type": "stream",
     "text": [
      "+------------------------+\n",
      "|count(DISTINCT category)|\n",
      "+------------------------+\n",
      "|                       4|\n",
      "+------------------------+\n",
      "\n"
     ]
    }
   ],
   "source": [
    "# Select count of distinct categories\n",
    "products_transactions_store.select(countDistinct('category')).show()"
   ]
  },
  {
   "cell_type": "code",
   "execution_count": 24,
   "metadata": {},
   "outputs": [
    {
     "name": "stdout",
     "output_type": "stream",
     "text": [
      "22/11/17 20:11:31 WARN CSVHeaderChecker: CSV header does not conform to the schema.\n",
      " Header: STORE_ID, STORE_NAME, CITY, STATE, MSA, SEGMENT, PARKING, SIZE, AVG_WEEKLY_BASKETS, \n",
      " Schema: STORE_ID, STORE_NAME, CITY, STATE, MSA, SEGMENT, PARKING, SIZE, AVG_WEEKLY_BASKETS, _c9\n",
      "Expected: _c9 but found: \n",
      "CSV file: file:///home/nick/Documents/GitHub/BigDataProject/Data/store_table.csv\n"
     ]
    },
    {
     "name": "stderr",
     "output_type": "stream",
     "text": [
      "[Stage 62:=================>                                       (3 + 7) / 10]\r"
     ]
    },
    {
     "name": "stdout",
     "output_type": "stream",
     "text": [
      "+--------------------+----------+\n",
      "|            category|sum(units)|\n",
      "+--------------------+----------+\n",
      "|         COLD CEREAL|   5979204|\n",
      "|        FROZEN PIZZA|   1383631|\n",
      "|ORAL HYGIENE PROD...|    534590|\n",
      "|          BAG SNACKS|   2672565|\n",
      "+--------------------+----------+\n",
      "\n"
     ]
    },
    {
     "name": "stderr",
     "output_type": "stream",
     "text": [
      "                                                                                \r"
     ]
    }
   ],
   "source": [
    "products_transactions_store.groupBy('category').agg(sum('units')).show()"
   ]
  },
  {
   "cell_type": "code",
   "execution_count": 26,
   "metadata": {},
   "outputs": [
    {
     "name": "stdout",
     "output_type": "stream",
     "text": [
      "22/11/17 20:12:57 WARN CSVHeaderChecker: CSV header does not conform to the schema.\n",
      " Header: STORE_ID, STORE_NAME, CITY, STATE, MSA, SEGMENT, PARKING, SIZE, AVG_WEEKLY_BASKETS, \n",
      " Schema: STORE_ID, STORE_NAME, CITY, STATE, MSA, SEGMENT, PARKING, SIZE, AVG_WEEKLY_BASKETS, _c9\n",
      "Expected: _c9 but found: \n",
      "CSV file: file:///home/nick/Documents/GitHub/BigDataProject/Data/store_table.csv\n"
     ]
    },
    {
     "name": "stderr",
     "output_type": "stream",
     "text": [
      "[Stage 89:====================================>                     (5 + 3) / 8]\r"
     ]
    },
    {
     "name": "stdout",
     "output_type": "stream",
     "text": [
      "+------------+-----------+\n",
      "|        city|count(city)|\n",
      "+------------+-----------+\n",
      "|  CINCINNATI|      62739|\n",
      "|     HOUSTON|      50289|\n",
      "|  MIDDLETOWN|      22883|\n",
      "|  MAINEVILLE|      15333|\n",
      "|    LOVELAND|      14976|\n",
      "|    HAMILTON|      14914|\n",
      "|      DAYTON|      13863|\n",
      "|    ROCKWALL|      13812|\n",
      "|FLOWER MOUND|      13574|\n",
      "|   COVINGTON|      13557|\n",
      "|  SUGAR LAND|      13236|\n",
      "|   KETTERING|      13049|\n",
      "|        KATY|      12924|\n",
      "|    MCKINNEY|      12481|\n",
      "|    BLUE ASH|       7968|\n",
      "|     LEBANON|       7865|\n",
      "|    VANDALIA|       7815|\n",
      "|       MASON|       7804|\n",
      "|    ERLANGER|       7740|\n",
      "|WEST CHESTER|       7675|\n",
      "+------------+-----------+\n",
      "only showing top 20 rows\n",
      "\n"
     ]
    },
    {
     "name": "stderr",
     "output_type": "stream",
     "text": [
      "                                                                                \r"
     ]
    }
   ],
   "source": [
    "# most common cities, based on count of city\n",
    "products_transactions_store.groupBy('city').agg(count('city')).orderBy('count(city)', ascending=False).show()"
   ]
  },
  {
   "cell_type": "code",
   "execution_count": null,
   "metadata": {},
   "outputs": [
    {
     "ename": "",
     "evalue": "",
     "output_type": "error",
     "traceback": [
      "\u001b[1;31mRunning cells with 'Python 3.11.0rc1 64-bit' requires ipykernel package.\n",
      "\u001b[1;31mRun the following command to install 'ipykernel' into the Python environment. \n",
      "\u001b[1;31mCommand: '/bin/python -m pip install ipykernel -U --user --force-reinstall'"
     ]
    }
   ],
   "source": [
    "# most common cities by units sold\n",
    "products_transactions_store.groupBy('city').agg(sum('units')).orderBy('sum(units)', ascending=False).show()"
   ]
  },
  {
   "cell_type": "code",
   "execution_count": null,
   "metadata": {},
   "outputs": [],
   "source": []
  },
  {
   "cell_type": "code",
   "execution_count": 14,
   "metadata": {},
   "outputs": [],
   "source": [
    "# # to pandas\n",
    "# products_transactions_store = products_transactions_store.toPandas()\n",
    "\n",
    "# # save to csv\n",
    "# products_transactions_store.to_csv('../Data/products_transactions_store.csv', index=False)"
   ]
  }
 ],
 "metadata": {
  "kernelspec": {
   "display_name": "Python 3.10.6 64-bit",
   "language": "python",
   "name": "python3"
  },
  "language_info": {
   "codemirror_mode": {
    "name": "ipython",
    "version": 3
   },
   "file_extension": ".py",
   "mimetype": "text/x-python",
   "name": "python",
   "nbconvert_exporter": "python",
   "pygments_lexer": "ipython3",
   "version": "3.10.6"
  },
  "orig_nbformat": 4,
  "vscode": {
   "interpreter": {
    "hash": "31f2aee4e71d21fbe5cf8b01ff0e069b9275f58929596ceb00d14d90e3e16cd6"
   }
  }
 },
 "nbformat": 4,
 "nbformat_minor": 2
}
